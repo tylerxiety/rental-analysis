{
 "cells": [
  {
   "cell_type": "code",
   "execution_count": 1,
   "metadata": {},
   "outputs": [],
   "source": [
    "import yaml\n",
    "import pandas as pd\n",
    "from sqlalchemy import create_engine"
   ]
  },
  {
   "cell_type": "code",
   "execution_count": 2,
   "metadata": {},
   "outputs": [],
   "source": [
    "# get some old helper func\n",
    "def connect_my_db(secrets):\n",
    "    \"\"\"\n",
    "    connect to the database\n",
    "    :param secrets: path of where the connection string is\n",
    "    :return: db connection (engine from sqlalchemy\n",
    "    \"\"\"\n",
    "    with open(secrets) as file:\n",
    "        uri = yaml.load(file, Loader = yaml.FullLoader)\n",
    "    uri = uri[\"db_string\"]\n",
    "\n",
    "    return create_engine(uri)\n",
    "\n",
    "def read_table(engine, table_name, date_col = 'YEAR_MONTH', date_start = None, date_end = None):\n",
    "    \"\"\"\n",
    "    Read the table from PostgreSQL\n",
    "    :param engine: the connection engine from sqlalchemy\n",
    "    :param table_name: name of the table\n",
    "    :param date_start: start date the data to retrieve\n",
    "    :param date_end: end date the data to retrieve\n",
    "    :return: the data frame read from the PostgreSQL\n",
    "    \"\"\"\n",
    "    if None not in (date_start, date_end):\n",
    "        query = 'SELECT * FROM ' + f'\"{table_name}\" WHERE \"{date_col}\" between '+ f\"'{date_start}' and '{date_end}'\"\n",
    "    else:\n",
    "        query = 'SELECT * FROM ' + f'\"{table_name}\"'\n",
    "\n",
    "    df = pd.read_sql(query, engine)\n",
    "    return df"
   ]
  },
  {
   "cell_type": "code",
   "execution_count": 3,
   "metadata": {},
   "outputs": [
    {
     "name": "stdout",
     "output_type": "stream",
     "text": [
      "C:\\Users\\tyler\\repos\\airbnb-forecast\n"
     ]
    }
   ],
   "source": [
    "# get access to db\n",
    "%cd C:\\Users\\tyler\\repos\\airbnb-forecast\n",
    "engine = connect_my_db(\"secrets/db_string\")"
   ]
  },
  {
   "cell_type": "code",
   "execution_count": 4,
   "metadata": {},
   "outputs": [],
   "source": [
    "# get data\n",
    "df_list = read_table(engine, \"FS_LIST_MONTHLY\")\n",
    "df_cal = read_table(engine, \"FS_CAL\")\n",
    "df_host = read_table(engine, \"FS_HOST_M\")\n",
    "df_rev = read_table(engine, \"FS_REVIEW_MONTHLY\")\n",
    "df_booked = read_table(engine, \"FS_BOOKED_MONTHLY\")\n",
    "df_loc = read_table(engine, \"FS_LOCATION_MONTHLY\")\n",
    "df_time = read_table(engine, \"FS_TIME_MONTHLY\")\n",
    "df_price = read_table(engine, \"FS_PRICE_MONTHLY\")\n",
    "\n",
    "# Merge the features together to become main dataset\n",
    "df_data = df_list.merge(df_cal, on = ['ID','YEAR_MONTH']).\\\n",
    "    merge(df_host, on = ['ID','YEAR_MONTH']).\\\n",
    "    merge(df_rev, on = ['ID','YEAR_MONTH']).\\\n",
    "    merge(df_booked, on = ['ID','YEAR_MONTH']).\\\n",
    "    merge(df_loc, on = ['ID','YEAR_MONTH']).\\\n",
    "    merge(df_time, on = ['ID','YEAR_MONTH']).\\\n",
    "    merge(df_price, on = ['ID','YEAR_MONTH'])"
   ]
  },
  {
   "cell_type": "code",
   "execution_count": 5,
   "metadata": {},
   "outputs": [
    {
     "data": {
      "text/plain": [
       "array(['2020-01', '2020-02', '2020-03', '2020-04', '2020-05', '2020-06'],\n",
       "      dtype=object)"
      ]
     },
     "execution_count": 5,
     "metadata": {},
     "output_type": "execute_result"
    }
   ],
   "source": [
    "df_data.YEAR_MONTH.unique()"
   ]
  },
  {
   "cell_type": "code",
   "execution_count": 6,
   "metadata": {},
   "outputs": [
    {
     "data": {
      "text/plain": [
       "Index(['ID', 'YEAR_MONTH', 'PROPERTY_TYPE', 'ROOM_TYPE', 'ACCOMMODATES',\n",
       "       'BATHROOMS', 'BEDROOMS', 'BEDS', 'BED_TYPE', 'AMENITIES', 'SQUARE_FEET',\n",
       "       'INSTANT_BOOKABLE', 'IS_BUSINESS_TRAVEL_READY', 'GUESTS_INCLUDED',\n",
       "       'CANCELLATION_POLICY', 'REQUIRE_GUEST_PROFILE_PICTURE',\n",
       "       'REQUIRE_GUEST_PHONE_VERIFICATION', 'LUXURY_FLAG', 'MAX_MINIMUM_NIGHTS',\n",
       "       'MIN_MINIMUM_NIGHTS', 'MIN_MAXIMUM_NIGHTS', 'MAX_MAXIMUM_NIGHTS',\n",
       "       'AVG_MINIMUM_NIGHTS', 'AVG_MAXIMUM_NIGHTS', 'CALENDAR_UPDATED',\n",
       "       'AVAILABILITY_30', 'AVAILABILITY_60', 'AVAILABILITY_90',\n",
       "       'AVAILABILITY_365', 'HOST_MONTHS', 'HOST_NEIGHBOURHOOD',\n",
       "       'HOST_RESPONSE_TIME', 'HOST_RESPONSE_RATE', 'HOST_ACCEPTANCE_RATE',\n",
       "       'HOST_IS_SUPERHOST', 'HOST_LISTINGS_COUNT', 'HOST_ENTIRE_HOMES',\n",
       "       'HOST_PRIVATE_ROOMS', 'HOST_SHARED_ROOMS', 'HOST_VERIFICATIONS',\n",
       "       'HOST_HAS_PROFILE_PIC', 'HOST_IDENTITY_VERIFIED', 'HOST_ID',\n",
       "       'NUMBER_OF_REVIEWS', 'MONTH_SINCE_FIRST_REVIEW',\n",
       "       'MONTH_SINCE_LAST_REVIEW', 'REVIEW_SCORES_RATING',\n",
       "       'REVIEW_SCORES_ACCURACY', 'REVIEW_SCORES_CLEANLINESS',\n",
       "       'REVIEW_SCORES_CHECKIN', 'REVIEW_SCORES_COMMUNICATION',\n",
       "       'REVIEW_SCORES_LOCATION', 'REVIEW_SCORES_VALUE', 'REVIEWS_PER_MONTH',\n",
       "       'BOOKED', 'BOOKED_LAG_1', 'BOOKED_LAG_3', 'BOOKED_LAG1_MINUS_LAG3',\n",
       "       'BOOKED_LAG1_MA3', 'BOOKED_LAG1_MINUS_LAG1MA3', 'STREET',\n",
       "       'NEIGHBOURHOOD', 'CITY', 'STATE', 'ZIPCODE', 'SMART_LOCATION',\n",
       "       'COUNTRY', 'LATITUDE', 'LONGITUDE', 'IS_LOCATION_EXACT', 'MONTH',\n",
       "       'QUARTER', 'YEAR', 'YEAR_START', 'YEAR_END', 'TXN_PRICE',\n",
       "       'PRICE_PER_GUEST', 'SECURITY_DEPOSIT', 'CLEANING_FEE', 'EXTRA_PEOPLE',\n",
       "       'PRICE_LAG_1', 'PRICE_LAG_2', 'PRICE_LAG_3', 'PRICE_MINUS_LAG_1',\n",
       "       'PRICE_MINUS_LAG_2', 'PRICE_MINUS_LAG_3', 'PRICE_MA_3',\n",
       "       'PRICE_MINUS_MA_3'],\n",
       "      dtype='object')"
      ]
     },
     "execution_count": 6,
     "metadata": {},
     "output_type": "execute_result"
    }
   ],
   "source": [
    "df_data.columns"
   ]
  },
  {
   "cell_type": "code",
   "execution_count": 7,
   "metadata": {},
   "outputs": [],
   "source": [
    "# select columns\n",
    "col_select = [\n",
    "    # list\n",
    "    'ID', 'YEAR_MONTH', 'PROPERTY_TYPE', 'ROOM_TYPE', 'ACCOMMODATES'\n",
    "    , 'BATHROOMS', 'BEDROOMS', 'BEDS', 'BED_TYPE', 'SQUARE_FEET'\n",
    "    , 'INSTANT_BOOKABLE', 'GUESTS_INCLUDED', 'CANCELLATION_POLICY'\n",
    "    , 'REQUIRE_GUEST_PROFILE_PICTURE', 'REQUIRE_GUEST_PHONE_VERIFICATION'\n",
    "    , 'LUXURY_FLAG'\n",
    "    # cal\n",
    "    , 'AVG_MINIMUM_NIGHTS', 'AVG_MAXIMUM_NIGHTS'\n",
    "    , 'AVAILABILITY_30','AVAILABILITY_60', 'AVAILABILITY_90', 'AVAILABILITY_365'\n",
    "    # host\n",
    "    , 'HOST_MONTHS', 'HOST_RESPONSE_RATE','HOST_RESPONSE_TIME'\n",
    "    , 'HOST_ACCEPTANCE_RATE', 'HOST_IS_SUPERHOST', 'HOST_LISTINGS_COUNT'\n",
    "    , 'HOST_HAS_PROFILE_PIC', 'HOST_IDENTITY_VERIFIED'\n",
    "    , 'HOST_ID'\n",
    "    # review\n",
    "    , 'NUMBER_OF_REVIEWS', 'MONTH_SINCE_FIRST_REVIEW'\n",
    "    , 'MONTH_SINCE_LAST_REVIEW', 'REVIEW_SCORES_RATING', 'REVIEW_SCORES_ACCURACY'\n",
    "    , 'REVIEW_SCORES_CLEANLINESS', 'REVIEW_SCORES_CHECKIN'\n",
    "    , 'REVIEW_SCORES_COMMUNICATION', 'REVIEW_SCORES_LOCATION'\n",
    "    , 'REVIEW_SCORES_VALUE', 'REVIEWS_PER_MONTH'\n",
    "    # booked\n",
    "    , 'BOOKED'\n",
    "    # loation\n",
    "    , 'NEIGHBOURHOOD', 'IS_LOCATION_EXACT'\n",
    "    ,'LATITUDE', 'LONGITUDE'\n",
    "    # price\n",
    "    , 'TXN_PRICE', 'PRICE_PER_GUEST', 'SECURITY_DEPOSIT', 'CLEANING_FEE', 'EXTRA_PEOPLE'\n",
    "]\n",
    "df_listing = df_data[col_select]"
   ]
  },
  {
   "cell_type": "code",
   "execution_count": 8,
   "metadata": {},
   "outputs": [
    {
     "name": "stderr",
     "output_type": "stream",
     "text": [
      "C:\\Users\\tyler\\Anaconda3\\lib\\site-packages\\ipykernel_launcher.py:2: SettingWithCopyWarning: \n",
      "A value is trying to be set on a copy of a slice from a DataFrame.\n",
      "Try using .loc[row_indexer,col_indexer] = value instead\n",
      "\n",
      "See the caveats in the documentation: https://pandas.pydata.org/pandas-docs/stable/user_guide/indexing.html#returning-a-view-versus-a-copy\n",
      "  \n"
     ]
    }
   ],
   "source": [
    "# cleaning\n",
    "df_listing['ROOM_TYPE']=df_listing['ROOM_TYPE'].str.replace('hotel room','private room')"
   ]
  },
  {
   "cell_type": "code",
   "execution_count": 9,
   "metadata": {},
   "outputs": [
    {
     "name": "stdout",
     "output_type": "stream",
     "text": [
      "C:\\Users\\tyler\\repos\\rshinybnb\n"
     ]
    }
   ],
   "source": [
    "# to csv \n",
    "%cd C:\\Users\\tyler\\repos\\rshinybnb\n",
    "    \n",
    "df_listing.to_csv('data\\listing20_01to06.csv',index=False)"
   ]
  },
  {
   "cell_type": "code",
   "execution_count": 10,
   "metadata": {},
   "outputs": [],
   "source": [
    "import pandas as pd\n",
    "df = pd.read_csv('data\\listing20_01to06.csv')"
   ]
  },
  {
   "cell_type": "code",
   "execution_count": 11,
   "metadata": {},
   "outputs": [
    {
     "name": "stdout",
     "output_type": "stream",
     "text": [
      "<class 'pandas.core.frame.DataFrame'>\n",
      "RangeIndex: 148835 entries, 0 to 148834\n",
      "Data columns (total 52 columns):\n",
      " #   Column                            Non-Null Count   Dtype  \n",
      "---  ------                            --------------   -----  \n",
      " 0   ID                                148835 non-null  int64  \n",
      " 1   YEAR_MONTH                        148835 non-null  object \n",
      " 2   PROPERTY_TYPE                     148835 non-null  object \n",
      " 3   ROOM_TYPE                         148835 non-null  object \n",
      " 4   ACCOMMODATES                      148835 non-null  int64  \n",
      " 5   BATHROOMS                         148718 non-null  float64\n",
      " 6   BEDROOMS                          148606 non-null  float64\n",
      " 7   BEDS                              147612 non-null  float64\n",
      " 8   BED_TYPE                          148835 non-null  object \n",
      " 9   SQUARE_FEET                       1044 non-null    float64\n",
      " 10  INSTANT_BOOKABLE                  148835 non-null  int64  \n",
      " 11  GUESTS_INCLUDED                   148835 non-null  int64  \n",
      " 12  CANCELLATION_POLICY               148835 non-null  object \n",
      " 13  REQUIRE_GUEST_PROFILE_PICTURE     148835 non-null  int64  \n",
      " 14  REQUIRE_GUEST_PHONE_VERIFICATION  148835 non-null  int64  \n",
      " 15  LUXURY_FLAG                       148835 non-null  int64  \n",
      " 16  AVG_MINIMUM_NIGHTS                148835 non-null  float64\n",
      " 17  AVG_MAXIMUM_NIGHTS                148835 non-null  float64\n",
      " 18  AVAILABILITY_30                   148835 non-null  int64  \n",
      " 19  AVAILABILITY_60                   148835 non-null  int64  \n",
      " 20  AVAILABILITY_90                   148835 non-null  int64  \n",
      " 21  AVAILABILITY_365                  148835 non-null  int64  \n",
      " 22  HOST_MONTHS                       148751 non-null  float64\n",
      " 23  HOST_RESPONSE_RATE                99604 non-null   float64\n",
      " 24  HOST_RESPONSE_TIME                99604 non-null   object \n",
      " 25  HOST_ACCEPTANCE_RATE              93013 non-null   float64\n",
      " 26  HOST_IS_SUPERHOST                 148751 non-null  float64\n",
      " 27  HOST_LISTINGS_COUNT               148835 non-null  int64  \n",
      " 28  HOST_HAS_PROFILE_PIC              148751 non-null  float64\n",
      " 29  HOST_IDENTITY_VERIFIED            148751 non-null  float64\n",
      " 30  HOST_ID                           148835 non-null  int64  \n",
      " 31  NUMBER_OF_REVIEWS                 148835 non-null  int64  \n",
      " 32  MONTH_SINCE_FIRST_REVIEW          118283 non-null  float64\n",
      " 33  MONTH_SINCE_LAST_REVIEW           118283 non-null  float64\n",
      " 34  REVIEW_SCORES_RATING              115283 non-null  float64\n",
      " 35  REVIEW_SCORES_ACCURACY            115171 non-null  float64\n",
      " 36  REVIEW_SCORES_CLEANLINESS         115204 non-null  float64\n",
      " 37  REVIEW_SCORES_CHECKIN             115123 non-null  float64\n",
      " 38  REVIEW_SCORES_COMMUNICATION       115189 non-null  float64\n",
      " 39  REVIEW_SCORES_LOCATION            115129 non-null  float64\n",
      " 40  REVIEW_SCORES_VALUE               115119 non-null  float64\n",
      " 41  REVIEWS_PER_MONTH                 118283 non-null  float64\n",
      " 42  BOOKED                            148835 non-null  int64  \n",
      " 43  NEIGHBOURHOOD                     148835 non-null  object \n",
      " 44  IS_LOCATION_EXACT                 148835 non-null  int64  \n",
      " 45  LATITUDE                          148835 non-null  float64\n",
      " 46  LONGITUDE                         148835 non-null  float64\n",
      " 47  TXN_PRICE                         148828 non-null  float64\n",
      " 48  PRICE_PER_GUEST                   148828 non-null  float64\n",
      " 49  SECURITY_DEPOSIT                  104473 non-null  float64\n",
      " 50  CLEANING_FEE                      116903 non-null  float64\n",
      " 51  EXTRA_PEOPLE                      148835 non-null  float64\n",
      "dtypes: float64(29), int64(16), object(7)\n",
      "memory usage: 59.0+ MB\n"
     ]
    }
   ],
   "source": [
    "df.info()"
   ]
  }
 ],
 "metadata": {
  "kernelspec": {
   "display_name": "Python [conda env:root] *",
   "language": "python",
   "name": "conda-root-py"
  },
  "language_info": {
   "codemirror_mode": {
    "name": "ipython",
    "version": 3
   },
   "file_extension": ".py",
   "mimetype": "text/x-python",
   "name": "python",
   "nbconvert_exporter": "python",
   "pygments_lexer": "ipython3",
   "version": "3.7.3"
  }
 },
 "nbformat": 4,
 "nbformat_minor": 4
}
